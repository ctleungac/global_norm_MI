{
 "cells": [
  {
   "cell_type": "code",
   "execution_count": 1,
   "id": "e8458a4e-2f66-4e63-a47c-0ec27cd5f0a9",
   "metadata": {},
   "outputs": [
    {
     "ename": "SyntaxError",
     "evalue": "invalid syntax (559241993.py, line 17)",
     "output_type": "error",
     "traceback": [
      "\u001b[1;36m  Cell \u001b[1;32mIn[1], line 17\u001b[1;36m\u001b[0m\n\u001b[1;33m    import\u001b[0m\n\u001b[1;37m           ^\u001b[0m\n\u001b[1;31mSyntaxError\u001b[0m\u001b[1;31m:\u001b[0m invalid syntax\n"
     ]
    }
   ],
   "source": [
    "### step 1 model train and gen data\n",
    "\n",
    "## to-do load the data in the model\n",
    "\n",
    "dataset_name = \"IB\"\n",
    "save_data = False\n",
    "\n",
    "\n",
    "MODEL_CONFIG = {\n",
    "    \"optimizer\": \"SGD\",\n",
    "    \"lr\": 5e-3,\n",
    "    \"batch_size\": 256,\n",
    "    \"epoch\": 2000,\n",
    "    \"z_idx\": 2,\n",
    "\n",
    "}\n",
    "\n",
    "if save_data == \"true\":\n",
    "    if dataset_name == \"IB\":\n",
    "        from model.IBmodel import train_model\n",
    "\n",
    "\n",
    "        # Call the train_model function with the config\n",
    "        train_model(MODEL_CONFIG)\n",
    "\n"
   ]
  },
  {
   "cell_type": "code",
   "execution_count": 5,
   "id": "7973ab9e-903e-4c2d-bda8-c5a8cdf73ca3",
   "metadata": {},
   "outputs": [],
   "source": [
    "### step two: load the data from the /model/savedata/\n",
    "\n",
    "if dataset_name = "
   ]
  },
  {
   "cell_type": "code",
   "execution_count": null,
   "id": "4e31b2d7-f2b7-46f9-97f7-df65ad01754c",
   "metadata": {},
   "outputs": [],
   "source": [
    "### step three: use the data to plot mi vs epoch and "
   ]
  },
  {
   "cell_type": "code",
   "execution_count": null,
   "id": "95ac794c-bb81-4283-b307-93eb892e5222",
   "metadata": {},
   "outputs": [],
   "source": []
  }
 ],
 "metadata": {
  "kernelspec": {
   "display_name": "Python 3 (ipykernel)",
   "language": "python",
   "name": "python3"
  },
  "language_info": {
   "codemirror_mode": {
    "name": "ipython",
    "version": 3
   },
   "file_extension": ".py",
   "mimetype": "text/x-python",
   "name": "python",
   "nbconvert_exporter": "python",
   "pygments_lexer": "ipython3",
   "version": "3.9.17"
  }
 },
 "nbformat": 4,
 "nbformat_minor": 5
}
