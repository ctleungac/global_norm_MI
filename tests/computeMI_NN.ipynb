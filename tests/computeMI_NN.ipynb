{
 "cells": [
  {
   "cell_type": "code",
   "execution_count": null,
   "id": "924e2232-264b-47de-bc2c-9be6cb5d22e1",
   "metadata": {},
   "outputs": [],
   "source": [
    "### parameters\n",
    "\n",
    "dataset_name = \"MNIST\"\n",
    "\n",
    "if data"
   ]
  },
  {
   "cell_type": "code",
   "execution_count": null,
   "id": "b7d69fac-5e48-475e-ac28-5f6a001f033d",
   "metadata": {},
   "outputs": [],
   "source": []
  },
  {
   "cell_type": "code",
   "execution_count": null,
   "id": "abdb9b39-ceab-4cea-a60b-fe9b5fcb32f1",
   "metadata": {},
   "outputs": [],
   "source": []
  },
  {
   "cell_type": "code",
   "execution_count": null,
   "id": "b2f1f794-7af5-4da4-a3a7-f27f3c24b9e3",
   "metadata": {},
   "outputs": [],
   "source": []
  },
  {
   "cell_type": "code",
   "execution_count": null,
   "id": "ab06ca82-dc8b-4cf9-b17f-cfc3c9a07c44",
   "metadata": {},
   "outputs": [],
   "source": []
  },
  {
   "cell_type": "code",
   "execution_count": null,
   "id": "75c9a009-70cd-4789-86d3-55aafc86036a",
   "metadata": {},
   "outputs": [],
   "source": [
    "## load dataset "
   ]
  },
  {
   "cell_type": "code",
   "execution_count": null,
   "id": "e024e9d1-66ba-40e9-b2eb-29d5a6987a35",
   "metadata": {},
   "outputs": [],
   "source": []
  },
  {
   "cell_type": "code",
   "execution_count": null,
   "id": "36b44c17-222e-4708-99b6-9e4dd7f1dd81",
   "metadata": {},
   "outputs": [],
   "source": []
  },
  {
   "cell_type": "code",
   "execution_count": null,
   "id": "4b8f637e-bb68-45cb-8e9d-d53397d1691f",
   "metadata": {},
   "outputs": [],
   "source": []
  },
  {
   "cell_type": "code",
   "execution_count": null,
   "id": "b9ebbda6-4807-4a49-a2c6-72d49e58a62b",
   "metadata": {},
   "outputs": [],
   "source": []
  },
  {
   "cell_type": "code",
   "execution_count": null,
   "id": "87b05cf8-7c06-42d4-bffe-b71a63849d62",
   "metadata": {},
   "outputs": [],
   "source": []
  },
  {
   "cell_type": "code",
   "execution_count": null,
   "id": "05f3ed60-2e41-436c-a69b-998723271050",
   "metadata": {},
   "outputs": [],
   "source": []
  }
 ],
 "metadata": {
  "kernelspec": {
   "display_name": "Python 3 (ipykernel)",
   "language": "python",
   "name": "python3"
  },
  "language_info": {
   "codemirror_mode": {
    "name": "ipython",
    "version": 3
   },
   "file_extension": ".py",
   "mimetype": "text/x-python",
   "name": "python",
   "nbconvert_exporter": "python",
   "pygments_lexer": "ipython3",
   "version": "3.9.17"
  }
 },
 "nbformat": 4,
 "nbformat_minor": 5
}
